{
 "cells": [
  {
   "cell_type": "code",
   "execution_count": 30,
   "metadata": {},
   "outputs": [],
   "source": [
    "import math as m\n",
    "import matplotlib.pyplot as plt"
   ]
  },
  {
   "cell_type": "code",
   "execution_count": 31,
   "metadata": {},
   "outputs": [],
   "source": [
    "def interchange_rows(eqs):\n",
    "    new_sequence_of_eq = []\n",
    "    for eq in eqs:\n",
    "        for key in variables:\n",
    "            if eq['x']>eq[key]:\n",
    "                new_sequence_of_eq.insert(0,eq)\n",
    "               # print(eq,\"x\")                \n",
    "                break\n",
    "            if eq['y']>eq[key]:\n",
    "                new_sequence_of_eq.insert(1,eq)\n",
    "                #print(eq,\"y\")\n",
    "                break\n",
    "            if eq['z']>eq[key]:\n",
    "                new_sequence_of_eq.insert(2,eq)\n",
    "               # print(eq,\"z\")\n",
    "                break\n",
    "    return new_sequence_of_eq"
   ]
  },
  {
   "cell_type": "code",
   "execution_count": 32,
   "metadata": {},
   "outputs": [],
   "source": [
    "def x(row={},y=0,z=0):\n",
    "    x = None\n",
    "    x = (row[\"c\"]-row[\"y\"]*y-row[\"z\"]*z)/row[\"x\"]\n",
    "    return x\n",
    "\n",
    "def y(row={},x=0,z=0):\n",
    "    y = None\n",
    "    y = (row[\"c\"]-row[\"x\"]*x-row[\"z\"]*z)/row[\"y\"]\n",
    "    return y\n",
    "\n",
    "def z(row={},x=0,y=0):\n",
    "    z = None\n",
    "    z = (row[\"c\"]-row[\"x\"]*x-row[\"y\"]*y)/row[\"z\"]\n",
    "    return z"
   ]
  },
  {
   "cell_type": "code",
   "execution_count": 34,
   "metadata": {},
   "outputs": [
    {
     "name": "stdout",
     "output_type": "stream",
     "text": [
      "X, Y, Z, C : 1,3,-1,11\n",
      "X, Y, Z, C : 3,1,1,1\n",
      "X, Y, Z, C : 1,-2,4,21\n"
     ]
    }
   ],
   "source": [
    "variables = [\"x\",\"y\",\"z\",\"c\"]\n",
    "equations = []\n",
    "\n",
    "for i in range(3):\n",
    "    equations.append({})\n",
    "\n",
    "for eq in equations:   \n",
    "    val = [x for x in input('X, Y, Z, C : ').split(',')]\n",
    "    val.reverse()\n",
    "    for v in variables:\n",
    "        eq[v] = float(val.pop())\n",
    "\n",
    "equations = interchange_rows(equations)"
   ]
  },
  {
   "cell_type": "code",
   "execution_count": 35,
   "metadata": {},
   "outputs": [],
   "source": [
    "def display_values(*data):\n",
    "    print(data)"
   ]
  },
  {
   "cell_type": "code",
   "execution_count": 36,
   "metadata": {},
   "outputs": [
    {
     "name": "stdout",
     "output_type": "stream",
     "text": [
      "[{'x': 3.0, 'y': 1.0, 'z': 1.0, 'c': 1.0}, {'x': 1.0, 'y': 3.0, 'z': -1.0, 'c': 11.0}, {'x': 1.0, 'y': -2.0, 'z': 4.0, 'c': 21.0}]\n"
     ]
    }
   ],
   "source": [
    "print(equations)"
   ]
  },
  {
   "cell_type": "markdown",
   "metadata": {},
   "source": [
    "equations[0][\"x\"] = 3\n",
    "equations[0][\"y\"] = 1\n",
    "equations[0][\"z\"] = 1\n",
    "equations[0][\"c\"] = 1\n",
    "\n",
    "equations[1][\"x\"] = 1\n",
    "equations[1][\"y\"] = 3\n",
    "equations[1][\"z\"] = -1\n",
    "equations[1][\"c\"] = 11\n",
    "\n",
    "equations[2][\"x\"] = 1\n",
    "equations[2][\"y\"] = -2\n",
    "equations[2][\"z\"] = 4\n",
    "equations[2][\"c\"] = 21"
   ]
  },
  {
   "cell_type": "code",
   "execution_count": 37,
   "metadata": {},
   "outputs": [
    {
     "name": "stdout",
     "output_type": "stream",
     "text": [
      "Jacobi's Method or Gauss Seidel Method\n",
      "For Jacobi type 1 \n",
      "For Gauss Seidel Type 2\n",
      " 1\n",
      "(0.0, 0.0, 0.0)\n",
      "(0.3333333333333333, 3.6666666666666665, 5.25)\n",
      "(-2.638888888888889, 5.305555555555555, 7.0)\n",
      "(-3.7685185185185186, 6.87962962962963, 8.5625)\n",
      "(-4.8140432098765435, 7.777006172839506, 9.631944444444445)\n",
      "(-5.469650205761316, 8.481995884773662, 10.34201388888889)\n",
      "(-5.941336591220851, 8.937221364883401, 10.85841049382716)\n",
      "(-6.265210619570187, 9.266582361682671, 11.203944830246913)\n",
      "(-6.490175730643195, 9.489718483272368, 11.449593835733882)\n",
      "(-6.646437439668749, 9.646589855459025, 11.617403174296982)\n",
      "(-6.754664343252003, 9.754613537988577, 11.7349042876467)\n",
      "(-6.829839275211758, 9.829856210299567, 11.815972854807288)\n",
      "(-6.881943021702285, 9.881937376673015, 11.872387923952722)\n",
      "(-6.918108433541913, 9.918110315218335, 11.911454443762079)\n",
      "(-6.943188252993472, 9.943187625767997, 11.938582265994647)\n",
      "(-6.9605899639208815, 9.96059017299604, 11.957390876132367)\n",
      "(-6.972660349709469, 9.972660280017749, 11.970442577478241)\n",
      "18 ---Iterations\n"
     ]
    }
   ],
   "source": [
    "A = 0.0\n",
    "B = 0.0\n",
    "C = 0.0\n",
    "X = 0.0\n",
    "Y = 0.0\n",
    "Z = 0.0\n",
    "\n",
    "error = []\n",
    "\n",
    "#tol = 1.1*m.exp(-2)\n",
    "tol = 0.01\n",
    "\n",
    "print(\"Jacobi's Method or Gauss Seidel Method\")\n",
    "\n",
    "choice = input(\"For Jacobi type 1 \\nFor Gauss Seidel Type 2\\n \")\n",
    "\n",
    "if choice == '1':\n",
    "    i=0\n",
    "    #for i in range(8):\n",
    "    while True:\n",
    "        \n",
    "        if i == 0:\n",
    "            A = x(equations[0])\n",
    "            B = y(equations[1])\n",
    "            C = z(equations[2])\n",
    "        else:\n",
    "            X = x(equations[0],B,C)\n",
    "            Y = y(equations[1],A,C)\n",
    "            Z = z(equations[2],A,B)\n",
    "\n",
    "            error.append(abs(X-A))\n",
    "            \n",
    "        i = i+1\n",
    "        if (abs(X-A))<tol:\n",
    "            del error[0]\n",
    "            print(i,\"---Iterations\")\n",
    "            break\n",
    "            \n",
    "        A,B,C = X,Y,Z\n",
    "        \n",
    "        display_values(A,B,C)\n",
    "        \n",
    "elif choice == '2':\n",
    "    i=0\n",
    "#     print(abs(X-A),1*m.exp(-3))\n",
    "    #for i in range(8):\n",
    "    while True:\n",
    "        \n",
    "        if i == 0:\n",
    "            A = x(equations[0])\n",
    "            B = y(equations[1],A)\n",
    "            C = z(equations[2],A,B)\n",
    "            \n",
    "        else:\n",
    "            X = x(equations[0],B,C)\n",
    "            Y = y(equations[1],X,C)\n",
    "            Z = z(equations[2],X,Y)\n",
    "\n",
    "            error.append(abs(X-A))\n",
    "        print(i)\n",
    "        i = i+1\n",
    "        if (abs(X-A))<tol:\n",
    "            del error[0]\n",
    "            print(abs(X-A),\"--err\")\n",
    "            print(i,\"---Iterations\")\n",
    "            break\n",
    "            \n",
    "        display_values(A,B,C)\n",
    "        \n",
    "        A,B,C = X,Y,Z\n",
    "\n",
    "else:\n",
    "    print(\"Invalid Selection !\")"
   ]
  },
  {
   "cell_type": "code",
   "execution_count": 38,
   "metadata": {},
   "outputs": [
    {
     "data": {
      "text/plain": [
       "[2.9722222222222223,\n",
       " 1.1296296296296298,\n",
       " 1.045524691358025,\n",
       " 0.6556069958847726,\n",
       " 0.47168638545953456,\n",
       " 0.3238740283493362,\n",
       " 0.22496511107300776,\n",
       " 0.15626170902555447,\n",
       " 0.10822690358325371,\n",
       " 0.07517493195975522,\n",
       " 0.05210374649052696,\n",
       " 0.03616541183962774,\n",
       " 0.025079819451558905,\n",
       " 0.01740171092740983,\n",
       " 0.012070385788587323,\n",
       " 0.008373936122527681]"
      ]
     },
     "execution_count": 38,
     "metadata": {},
     "output_type": "execute_result"
    }
   ],
   "source": [
    "error"
   ]
  },
  {
   "cell_type": "code",
   "execution_count": 39,
   "metadata": {},
   "outputs": [
    {
     "name": "stdout",
     "output_type": "stream",
     "text": [
      "{'x': 3.0, 'y': 1.0, 'z': 1.0, 'c': 1.0}\n",
      "{'x': 1.0, 'y': 3.0, 'z': -1.0, 'c': 11.0}\n",
      "{'x': 1.0, 'y': -2.0, 'z': 4.0, 'c': 21.0}\n"
     ]
    }
   ],
   "source": [
    "print(equations[0])\n",
    "print(equations[1])\n",
    "print(equations[2])"
   ]
  },
  {
   "cell_type": "code",
   "execution_count": 40,
   "metadata": {},
   "outputs": [],
   "source": [
    "A = x(equations[0])\n",
    "B = y(equations[1])\n",
    "C = z(equations[2])"
   ]
  },
  {
   "cell_type": "code",
   "execution_count": 41,
   "metadata": {},
   "outputs": [
    {
     "name": "stdout",
     "output_type": "stream",
     "text": [
      "0.3333333333333333\n",
      "3.6666666666666665\n",
      "5.25\n"
     ]
    }
   ],
   "source": [
    "print(A)\n",
    "print(B)\n",
    "print(C)"
   ]
  },
  {
   "cell_type": "code",
   "execution_count": 42,
   "metadata": {},
   "outputs": [],
   "source": [
    "X = x(equations[0],B,C)\n",
    "Y = y(equations[1],A,C)\n",
    "Z = z(equations[2],A,B)"
   ]
  },
  {
   "cell_type": "code",
   "execution_count": 43,
   "metadata": {},
   "outputs": [
    {
     "name": "stdout",
     "output_type": "stream",
     "text": [
      "-2.638888888888889\n",
      "5.305555555555555\n",
      "7.0\n"
     ]
    }
   ],
   "source": [
    "print(X)\n",
    "print(Y)\n",
    "print(Z)"
   ]
  },
  {
   "cell_type": "code",
   "execution_count": 48,
   "metadata": {},
   "outputs": [
    {
     "name": "stdout",
     "output_type": "stream",
     "text": [
      "[0.3333333333333333, 2.9722222222222223, 1.1296296296296298, 1.045524691358025, 0.6556069958847726, 0.47168638545953456, 0.3238740283493362]\n",
      "[2.9722222222222223, 1.1296296296296298, 1.045524691358025, 0.6556069958847726, 0.47168638545953456, 0.3238740283493362]\n"
     ]
    }
   ],
   "source": [
    "print(error)\n",
    "del error[0]\n",
    "print(error)"
   ]
  },
  {
   "cell_type": "code",
   "execution_count": 44,
   "metadata": {},
   "outputs": [
    {
     "data": {
      "image/png": "[encoded data removed]",
      "text/plain": [
       "<Figure size 432x288 with 1 Axes>"
      ]
     },
     "metadata": {
      "needs_background": "light"
     },
     "output_type": "display_data"
    }
   ],
   "source": [
    "plt.plot(error)\n",
    "plt.show()"
   ]
  },
  {
   "cell_type": "code",
   "execution_count": null,
   "metadata": {},
   "outputs": [],
   "source": []
  }
 ],
 "metadata": {
  "kernelspec": {
   "display_name": "Python 3",
   "language": "python",
   "name": "python3"
  },
  "language_info": {
   "codemirror_mode": {
    "name": "ipython",
    "version": 3
   },
   "file_extension": ".py",
   "mimetype": "text/x-python",
   "name": "python",
   "nbconvert_exporter": "python",
   "pygments_lexer": "ipython3",
   "version": "3.7.3"
  }
 },
 "nbformat": 4,
 "nbformat_minor": 2
}
