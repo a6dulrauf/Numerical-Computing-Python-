{
 "cells": [
  {
   "cell_type": "code",
   "execution_count": 1,
   "metadata": {},
   "outputs": [],
   "source": [
    "import random\n",
    "from queue import Queue\n",
    "import math as m"
   ]
  },
  {
   "cell_type": "code",
   "execution_count": 3,
   "metadata": {},
   "outputs": [],
   "source": [
    "def interchange_rows(eqs):\n",
    "    new_sequence_of_eq = []\n",
    "    for eq in eqs:\n",
    "        for key in variables:\n",
    "            if eq['x']>eq[key]:\n",
    "                new_sequence_of_eq.insert(0,eq)\n",
    "               # print(eq,\"x\")                \n",
    "                break\n",
    "            if eq['y']>eq[key]:\n",
    "                new_sequence_of_eq.insert(1,eq)\n",
    "                #print(eq,\"y\")\n",
    "                break\n",
    "            if eq['z']>eq[key]:\n",
    "                new_sequence_of_eq.insert(2,eq)\n",
    "               # print(eq,\"z\")\n",
    "                break\n",
    "    return new_sequence_of_eq"
   ]
  },
  {
   "cell_type": "code",
   "execution_count": 4,
   "metadata": {},
   "outputs": [],
   "source": [
    "def x(row={},y=0,z=0):\n",
    "    x = None\n",
    "    x = (row[\"c\"]-row[\"y\"]*y-row[\"z\"]*z)/row[\"x\"]\n",
    "    return x\n",
    "\n",
    "def y(row={},x=0,z=0):\n",
    "    y = None\n",
    "    y = (row[\"c\"]-row[\"x\"]*x-row[\"z\"]*z)/row[\"y\"]\n",
    "    return y\n",
    "\n",
    "def z(row={},x=0,y=0):\n",
    "    z = None\n",
    "    z = (row[\"c\"]-row[\"x\"]*x-row[\"y\"]*y)/row[\"z\"]\n",
    "    return z"
   ]
  },
  {
   "cell_type": "code",
   "execution_count": 7,
   "metadata": {},
   "outputs": [
    {
     "name": "stdout",
     "output_type": "stream",
     "text": [
      "X, Y, Z, C : 1,-2,4,21\n",
      "X, Y, Z, C : 3,1,1,1,\n",
      "X, Y, Z, C : 1,3,-1,11\n"
     ]
    }
   ],
   "source": [
    "variables = [\"x\",\"y\",\"z\",\"c\"]\n",
    "equations = []\n",
    "\n",
    "for i in range(3):\n",
    "    equations.append({})\n",
    "\n",
    "for eq in equations:   \n",
    "    val = [x for x in input('X, Y, Z, C : ').split(',')]\n",
    "    val.reverse()\n",
    "    for v in variables:\n",
    "        eq[v] = float(val.pop())\n",
    "\n",
    "equations = interchange_rows(equations)"
   ]
  },
  {
   "cell_type": "code",
   "execution_count": 10,
   "metadata": {},
   "outputs": [
    {
     "name": "stdout",
     "output_type": "stream",
     "text": [
      "[{'x': 3.0, 'y': 1.0, 'z': 1.0, 'c': 1.0}, {'x': 1.0, 'y': 3.0, 'z': -1.0, 'c': 11.0}, {'x': 1.0, 'y': -2.0, 'z': 4.0, 'c': 21.0}]\n"
     ]
    }
   ],
   "source": [
    "print(equations)"
   ]
  },
  {
   "cell_type": "markdown",
   "metadata": {},
   "source": [
    "equations[0][\"x\"] = 3\n",
    "equations[0][\"y\"] = 1\n",
    "equations[0][\"z\"] = 1\n",
    "equations[0][\"c\"] = 1\n",
    "\n",
    "equations[1][\"x\"] = 1\n",
    "equations[1][\"y\"] = 3\n",
    "equations[1][\"z\"] = -1\n",
    "equations[1][\"c\"] = 11\n",
    "\n",
    "equations[2][\"x\"] = 1\n",
    "equations[2][\"y\"] = -2\n",
    "equations[2][\"z\"] = 4\n",
    "equations[2][\"c\"] = 21"
   ]
  },
  {
   "cell_type": "code",
   "execution_count": 11,
   "metadata": {},
   "outputs": [
    {
     "name": "stdout",
     "output_type": "stream",
     "text": [
      "Jacobi's Method or Gauss Seidel Method\n",
      "For Jacobi type 1 \n",
      " for Gauss Seidel Type 2\n",
      " 1\n",
      "0.3333333333333333\n",
      "3.6666666666666665\n",
      "5.25\n",
      "\n",
      "0.3333333333333333\n",
      "3.6666666666666665\n",
      "5.25\n",
      "\n",
      "0.3333333333333333\n",
      "3.6666666666666665\n",
      "5.25\n",
      "\n",
      "0.3333333333333333\n",
      "3.6666666666666665\n",
      "5.25\n",
      "\n",
      "0.3333333333333333\n",
      "3.6666666666666665\n",
      "5.25\n",
      "\n",
      "0.3333333333333333\n",
      "3.6666666666666665\n",
      "5.25\n",
      "\n",
      "0.3333333333333333\n",
      "3.6666666666666665\n",
      "5.25\n",
      "\n",
      "0.3333333333333333\n",
      "3.6666666666666665\n",
      "5.25\n",
      "\n"
     ]
    }
   ],
   "source": [
    "A = 0.0\n",
    "B = 0.0\n",
    "C = 0.0\n",
    "X = 0.0\n",
    "Y = 0.0\n",
    "Z = 0.0\n",
    "\n",
    "error = []\n",
    "\n",
    "#tol = 1.1*m.exp(-2)\n",
    "tol = 0.01\n",
    "\n",
    "print(\"Jacobi's Method or Gauss Seidel Method\")\n",
    "\n",
    "choice = input(\"For Jacobi type 1 \\n for Gauss Seidel Type 2\\n \")\n",
    "\n",
    "if choice == '1':\n",
    "    i=0\n",
    "    for i in range(8):\n",
    "    #while True:\n",
    "        \n",
    "        if i == 0:\n",
    "            A = x(equations[0])\n",
    "            B = y(equations[1])\n",
    "            C = z(equations[2])\n",
    "        else:\n",
    "            X = x(equations[0],B,C)\n",
    "            Y = y(equations[1],A,C)\n",
    "            Z = z(equations[2],A,B)\n",
    "\n",
    "            error.append(abs(X-A))\n",
    "        '''    \n",
    "        i = i+1\n",
    "        if (abs(X-A))<tol:\n",
    "            del error[0]\n",
    "            print(i,\"---Iterations\")\n",
    "            break\n",
    "        '''    \n",
    "        #A,B,C = X,Y,Z\n",
    "\n",
    "        print(A)\n",
    "        print(B)\n",
    "        print(C)\n",
    "        print()\n",
    "elif choice == '2':\n",
    "    i=0\n",
    "#     print(abs(X-A),1*m.exp(-3))\n",
    "    #for i in range(8):\n",
    "    while True:\n",
    "        \n",
    "        if i == 0:\n",
    "            A = x(equations[0])\n",
    "            B = y(equations[1],A)\n",
    "            C = z(equations[2],A,B)\n",
    "            \n",
    "        else:\n",
    "            X = x(equations[0],B,C)\n",
    "            Y = y(equations[1],X,C)\n",
    "            Z = z(equations[2],X,Y)\n",
    "\n",
    "            error.append(abs(X-A))\n",
    "        print(i)\n",
    "        i = i+1\n",
    "        if (abs(X-A))<tol:\n",
    "            del error[0]\n",
    "            print(abs(X-A),\"--err\")\n",
    "            print(i,\"---Iterations\")\n",
    "            break\n",
    "           \n",
    "        print(A)\n",
    "        print(B)\n",
    "        print(C)\n",
    "        print()\n",
    "        A,B,C = X,Y,Z\n",
    "\n",
    "else:\n",
    "    print(\"Invalid Selection !\")\n"
   ]
  },
  {
   "cell_type": "code",
   "execution_count": 12,
   "metadata": {},
   "outputs": [
    {
     "data": {
      "text/plain": [
       "[2.9722222222222223,\n",
       " 2.9722222222222223,\n",
       " 2.9722222222222223,\n",
       " 2.9722222222222223,\n",
       " 2.9722222222222223,\n",
       " 2.9722222222222223,\n",
       " 2.9722222222222223]"
      ]
     },
     "execution_count": 12,
     "metadata": {},
     "output_type": "execute_result"
    }
   ],
   "source": [
    "error"
   ]
  },
  {
   "cell_type": "code",
   "execution_count": 15,
   "metadata": {},
   "outputs": [
    {
     "name": "stdout",
     "output_type": "stream",
     "text": [
      "{'x': 3.0, 'y': 1.0, 'z': 1.0, 'c': 1.0}\n",
      "{'x': 1.0, 'y': 3.0, 'z': -1.0, 'c': 11.0}\n",
      "{'x': 1.0, 'y': -2.0, 'z': 4.0, 'c': 21.0}\n"
     ]
    }
   ],
   "source": [
    "print(equations[0])\n",
    "print(equations[1])\n",
    "print(equations[2])"
   ]
  },
  {
   "cell_type": "code",
   "execution_count": 194,
   "metadata": {},
   "outputs": [],
   "source": [
    "A = x(equations[0])\n",
    "B = y(equations[1])\n",
    "C = z(equations[2])"
   ]
  },
  {
   "cell_type": "code",
   "execution_count": 16,
   "metadata": {},
   "outputs": [
    {
     "ename": "NameError",
     "evalue": "name 'A' is not defined",
     "output_type": "error",
     "traceback": [
      "\u001b[1;31m---------------------------------------------------------------------------\u001b[0m",
      "\u001b[1;31mNameError\u001b[0m                                 Traceback (most recent call last)",
      "\u001b[1;32m<ipython-input-16-b9b4dc443408>\u001b[0m in \u001b[0;36m<module>\u001b[1;34m\u001b[0m\n\u001b[1;32m----> 1\u001b[1;33m \u001b[0mprint\u001b[0m\u001b[1;33m(\u001b[0m\u001b[0mA\u001b[0m\u001b[1;33m)\u001b[0m\u001b[1;33m\u001b[0m\u001b[1;33m\u001b[0m\u001b[0m\n\u001b[0m\u001b[0;32m      2\u001b[0m \u001b[0mprint\u001b[0m\u001b[1;33m(\u001b[0m\u001b[0mB\u001b[0m\u001b[1;33m)\u001b[0m\u001b[1;33m\u001b[0m\u001b[1;33m\u001b[0m\u001b[0m\n\u001b[0;32m      3\u001b[0m \u001b[0mprint\u001b[0m\u001b[1;33m(\u001b[0m\u001b[0mC\u001b[0m\u001b[1;33m)\u001b[0m\u001b[1;33m\u001b[0m\u001b[1;33m\u001b[0m\u001b[0m\n",
      "\u001b[1;31mNameError\u001b[0m: name 'A' is not defined"
     ]
    }
   ],
   "source": [
    "print(A)\n",
    "print(B)\n",
    "print(C)\n"
   ]
  },
  {
   "cell_type": "code",
   "execution_count": 196,
   "metadata": {},
   "outputs": [],
   "source": [
    "X = x(equations[0],B,C)\n",
    "Y = y(equations[1],A,C)\n",
    "Z = z(equations[2],A,B)"
   ]
  },
  {
   "cell_type": "code",
   "execution_count": 197,
   "metadata": {},
   "outputs": [
    {
     "name": "stdout",
     "output_type": "stream",
     "text": [
      "1.5555555555555554\n",
      "2.7222222222222228\n",
      "1.1666666666666665\n"
     ]
    }
   ],
   "source": [
    "print(X)\n",
    "print(Y)\n",
    "print(Z)\n"
   ]
  },
  {
   "cell_type": "code",
   "execution_count": 198,
   "metadata": {},
   "outputs": [],
   "source": [
    "error\n",
    "del error[0]"
   ]
  },
  {
   "cell_type": "code",
   "execution_count": 199,
   "metadata": {},
   "outputs": [],
   "source": [
    "import matplotlib.pyplot as plt"
   ]
  },
  {
   "cell_type": "code",
   "execution_count": 17,
   "metadata": {},
   "outputs": [
    {
     "ename": "NameError",
     "evalue": "name 'plt' is not defined",
     "output_type": "error",
     "traceback": [
      "\u001b[1;31m---------------------------------------------------------------------------\u001b[0m",
      "\u001b[1;31mNameError\u001b[0m                                 Traceback (most recent call last)",
      "\u001b[1;32m<ipython-input-17-790464dff915>\u001b[0m in \u001b[0;36m<module>\u001b[1;34m\u001b[0m\n\u001b[1;32m----> 1\u001b[1;33m \u001b[0mplt\u001b[0m\u001b[1;33m.\u001b[0m\u001b[0mplot\u001b[0m\u001b[1;33m(\u001b[0m\u001b[0merror\u001b[0m\u001b[1;33m)\u001b[0m\u001b[1;33m\u001b[0m\u001b[1;33m\u001b[0m\u001b[0m\n\u001b[0m\u001b[0;32m      2\u001b[0m \u001b[0mplt\u001b[0m\u001b[1;33m.\u001b[0m\u001b[0mshow\u001b[0m\u001b[1;33m(\u001b[0m\u001b[1;33m)\u001b[0m\u001b[1;33m\u001b[0m\u001b[1;33m\u001b[0m\u001b[0m\n",
      "\u001b[1;31mNameError\u001b[0m: name 'plt' is not defined"
     ]
    }
   ],
   "source": [
    "plt.plot(error)\n",
    "plt.show()"
   ]
  }
 ],
 "metadata": {
  "kernelspec": {
   "display_name": "Python 3",
   "language": "python",
   "name": "python3"
  },
  "language_info": {
   "codemirror_mode": {
    "name": "ipython",
    "version": 3
   },
   "file_extension": ".py",
   "mimetype": "text/x-python",
   "name": "python",
   "nbconvert_exporter": "python",
   "pygments_lexer": "ipython3",
   "version": "3.7.3"
  }
 },
 "nbformat": 4,
 "nbformat_minor": 2
}
